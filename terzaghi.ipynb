{
  "nbformat": 4,
  "nbformat_minor": 0,
  "metadata": {
    "colab": {
      "name": "terzaghi.ipynb",
      "provenance": [],
      "authorship_tag": "ABX9TyNwqn0hslOv0z0EQR+iO8x8",
      "include_colab_link": true
    },
    "kernelspec": {
      "name": "python3",
      "display_name": "Python 3"
    }
  },
  "cells": [
    {
      "cell_type": "markdown",
      "metadata": {
        "id": "view-in-github",
        "colab_type": "text"
      },
      "source": [
        "<a href=\"https://colab.research.google.com/github/Sompote/foundation/blob/main/terzaghi.ipynb\" target=\"_parent\"><img src=\"https://colab.research.google.com/assets/colab-badge.svg\" alt=\"Open In Colab\"/></a>"
      ]
    },
    {
      "cell_type": "code",
      "metadata": {
        "id": "rnpsu2Ng12bR"
      },
      "source": [
        "from math import *\n",
        "import numpy as np\n",
        "from sympy import symbols"
      ],
      "execution_count": 1,
      "outputs": []
    },
    {
      "cell_type": "code",
      "metadata": {
        "id": "KKd3ySMn1_xJ",
        "colab": {
          "base_uri": "https://localhost:8080/",
          "height": 54
        },
        "outputId": "54949948-44e7-4db0-a76c-33de8b11c4af"
      },
      "source": [
        "#calculation bearing capacity\n",
        "''' \n",
        "square fotting 5x5 m depth = 2 m\n",
        "soil condition\n",
        "soil is sand\n",
        "fee=30 \n",
        "cohesion =0\n",
        "unit weight of soil = 18\n",
        "water table at ground surface\n",
        "FS=3\n",
        "footing thickness = 1\n",
        "determine qllow\n",
        "'''"
      ],
      "execution_count": null,
      "outputs": [
        {
          "output_type": "execute_result",
          "data": {
            "application/vnd.google.colaboratory.intrinsic+json": {
              "type": "string"
            },
            "text/plain": [
              "' \\nsquare fotting 5x5 m depth = 2 m\\nsoil condition\\nsoil is sand\\nfee=30 \\ncohesion =0\\nunit weight of soil = 18\\nwater table at ground surface\\nFS=3\\nfooting thickness = 1\\ndetermine qllow\\n'"
            ]
          },
          "metadata": {
            "tags": []
          },
          "execution_count": 2
        }
      ]
    },
    {
      "cell_type": "code",
      "metadata": {
        "colab": {
          "base_uri": "https://localhost:8080/"
        },
        "id": "tkyA__JeD6Ho",
        "outputId": "fc15f73e-f539-4e6e-8955-14cbd72d62b1"
      },
      "source": [
        "FS=3\n",
        "def bearing (fee):\n",
        "  if fee == 0:\n",
        "    Nc=5.7\n",
        "    Nq=1\n",
        "    Ng=0\n",
        "  else:\n",
        "    fee=fee/180*pi\n",
        "    Nq=exp(2*pi*(0.75-fee/(2*pi))*tan(fee))/(2*(cos(pi/4+fee/2))**2)\n",
        "    Nc=(Nq-1)/tan(fee)\n",
        "    Ng=2*(Nq+1)*tan(fee)/(1+0.4*sin(4*fee))\n",
        "  return Nc, Nq, Ng \n",
        "\n",
        "fee=30\n",
        "c=0\n",
        "Nc, Nq, Ng =bearing(fee)\n",
        "\n",
        "qc=c*Nc\n",
        "q=2*(18-9.81)\n",
        "qq=q*Nq\n",
        "qg=0.4*(18-9.81)*5*Ng\n",
        "print((qc,qq,qg))\n",
        "qult=qc+qq+qg\n",
        "qallow =qult/FS\n",
        "qself=(18-9.81)*0.5+24*1\n",
        "qallownet=qallow-qself\n",
        "Q=5*5*qallownet\n",
        "print('qallownet =', qallownet, 'kPa')\n",
        "print('Load =', Q,' kN')\n"
      ],
      "execution_count": 10,
      "outputs": [
        {
          "output_type": "stream",
          "text": [
            "(0.0, 367.8250477117415, 329.499723131906)\n",
            "qallownet = 204.3465902812158 kPa\n",
            "Load = 5108.664757030395  kN\n"
          ],
          "name": "stdout"
        }
      ]
    },
    {
      "cell_type": "code",
      "metadata": {
        "id": "ttkRtcJ8FM7q"
      },
      "source": [
        ""
      ],
      "execution_count": null,
      "outputs": []
    },
    {
      "cell_type": "code",
      "metadata": {
        "id": "chU7nPe3IYV_"
      },
      "source": [
        ""
      ],
      "execution_count": null,
      "outputs": []
    }
  ]
}